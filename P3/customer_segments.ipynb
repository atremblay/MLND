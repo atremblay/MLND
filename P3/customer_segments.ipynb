{
 "cells": [
  {
   "cell_type": "markdown",
   "metadata": {},
   "source": [
    "# Creating Customer Segments"
   ]
  },
  {
   "cell_type": "markdown",
   "metadata": {},
   "source": [
    "In this project you, will analyze a dataset containing annual spending amounts for internal structure, to understand the variation in the different types of customers that a wholesale distributor interacts with.\n",
    "\n",
    "Instructions:\n",
    "\n",
    "- Run each code block below by pressing **Shift+Enter**, making sure to implement any steps marked with a TODO.\n",
    "- Answer each question in the space provided by editing the blocks labeled \"Answer:\".\n",
    "- When you are done, submit the completed notebook (.ipynb) with all code blocks executed, as well as a .pdf version (File > Download as)."
   ]
  },
  {
   "cell_type": "code",
   "execution_count": 1,
   "metadata": {
    "collapsed": false
   },
   "outputs": [
    {
     "name": "stdout",
     "output_type": "stream",
     "text": [
      "Dataset has 440 rows, 6 columns\n",
      "   Fresh  Milk  Grocery  Frozen  Detergents_Paper  Delicatessen\n",
      "0  12669  9656     7561     214              2674          1338\n",
      "1   7057  9810     9568    1762              3293          1776\n",
      "2   6353  8808     7684    2405              3516          7844\n",
      "3  13265  1196     4221    6404               507          1788\n",
      "4  22615  5410     7198    3915              1777          5185\n"
     ]
    }
   ],
   "source": [
    "# Import libraries: NumPy, pandas, matplotlib\n",
    "import numpy as np\n",
    "import pandas as pd\n",
    "import matplotlib.pyplot as plt\n",
    "\n",
    "# Tell iPython to include plots inline in the notebook\n",
    "%matplotlib inline\n",
    "\n",
    "# Read dataset\n",
    "data = pd.read_csv(\"wholesale-customers.csv\")\n",
    "print \"Dataset has {} rows, {} columns\".format(*data.shape)\n",
    "print data.head()  # print the first 5 rows"
   ]
  },
  {
   "cell_type": "markdown",
   "metadata": {},
   "source": [
    "## Feature Transformation"
   ]
  },
  {
   "cell_type": "markdown",
   "metadata": {},
   "source": [
    "**1)** In this section you will be using PCA and ICA to start to understand the structure of the data. Before doing any computations, what do you think will show up in your computations? List one or two ideas for what might show up as the first PCA dimensions, or what type of vectors will show up as ICA dimensions."
   ]
  },
  {
   "cell_type": "markdown",
   "metadata": {},
   "source": [
    "Answer:\n",
    "- Because PCA is based on the covariance matrix, maybe only one item will pop out such as Fresh. This has a standard deviation compared to other items so this will probably dominate the first component. \n",
    "- ICA will show independant vectors that explains the original signal. It's a little bit hard to guess at first what will come out."
   ]
  },
  {
   "cell_type": "markdown",
   "metadata": {},
   "source": [
    "### PCA"
   ]
  },
  {
   "cell_type": "code",
   "execution_count": 2,
   "metadata": {
    "collapsed": false
   },
   "outputs": [
    {
     "name": "stdout",
     "output_type": "stream",
     "text": [
      "                       PC1       PC2       PC3       PC4       PC5       PC6\n",
      "Fresh            -0.976537 -0.121184 -0.061540 -0.152365  0.007054 -0.068105\n",
      "Milk             -0.110614  0.515802  0.764606 -0.018723  0.365351  0.057079\n",
      "Grocery          -0.178557  0.509887 -0.275781  0.714200 -0.204410  0.283217\n",
      "Frozen           -0.041876 -0.645640  0.375460  0.646292  0.149380 -0.020396\n",
      "Detergents_Paper  0.015986  0.203236 -0.160292  0.220186  0.207930 -0.917077\n",
      "Delicatessen     -0.015763  0.033492  0.410939 -0.013289 -0.871284 -0.265417\n",
      "               PC1       PC2      PC3       PC4       PC5       PC6\n",
      "Variance  0.459614  0.405172  0.07003  0.044023  0.015022  0.006138\n"
     ]
    }
   ],
   "source": [
    "# TODO: Apply PCA with the same number of dimensions as variables in the dataset\n",
    "from sklearn.decomposition import PCA\n",
    "pca = PCA(n_components=6)\n",
    "pca.fit(data)\n",
    "\n",
    "# Print the components and the amount of variance in the data contained in each dimension\n",
    "print pd.DataFrame(\n",
    "    pca.components_, \n",
    "    columns = ['PC{}'.format(i) for i in range(1,7)],\n",
    "    index = ['Fresh', 'Milk', 'Grocery','Frozen', 'Detergents_Paper', 'Delicatessen']\n",
    "    )\n",
    "print pd.DataFrame(\n",
    "    pca.explained_variance_ratio_.reshape((1,6)) , \n",
    "    columns = ['PC{}'.format(i) for i in range(1,7)],\n",
    "    index = ['Variance']\n",
    "    )\n",
    "             "
   ]
  },
  {
   "cell_type": "markdown",
   "metadata": {},
   "source": [
    "## **2)** How quickly does the variance drop off by dimension? If you were to use PCA on this dataset, how many dimensions would you choose for your analysis? Why?"
   ]
  },
  {
   "cell_type": "markdown",
   "metadata": {
    "collapsed": true
   },
   "source": [
    "Answer: \n",
    "- The variace drops off rapidly after the second dimension. With only two dimensions we have approximately 86% of variance. \n",
    "- To decide how many dimensions to keep we have to ask ourselves why we are doing PCA. Is it to reduce storage space, to reduce dimensionnality or some other reason? The storage here is not a problem. We want keep as much information as possible while reducing the risk of falling in the curse of dimensionnality. Thus, by reducing by three dimensions, from 6 to 3, we still keep 93% of the variance and we allow any kind of machine learning algorithm to better fit the space with the same sample size."
   ]
  },
  {
   "cell_type": "code",
   "execution_count": 3,
   "metadata": {
    "collapsed": false
   },
   "outputs": [
    {
     "data": {
      "text/plain": [
       "array([ 1.,  1.,  1.,  1.,  1.,  1.])"
      ]
     },
     "execution_count": 3,
     "metadata": {},
     "output_type": "execute_result"
    }
   ],
   "source": [
    "sum(pca.components_**2)"
   ]
  },
  {
   "cell_type": "code",
   "execution_count": 4,
   "metadata": {
    "collapsed": false
   },
   "outputs": [
    {
     "data": {
      "text/plain": [
       "<matplotlib.text.Text at 0x102135090>"
      ]
     },
     "execution_count": 4,
     "metadata": {},
     "output_type": "execute_result"
    },
    {
     "data": {
      "image/png": "[encoded data removed]",
      "text/plain": [
       "<matplotlib.figure.Figure at 0x1095353d0>"
      ]
     },
     "metadata": {},
     "output_type": "display_data"
    }
   ],
   "source": [
    "plt.plot(pca.explained_variance_ratio_)\n",
    "plt.scatter(xrange(6), pca.explained_variance_ratio_)\n",
    "plt.ylabel(\"Explained variance\")\n",
    "plt.xlabel(\"Dimension number\")"
   ]
  },
  {
   "cell_type": "markdown",
   "metadata": {},
   "source": [
    "**3)** What do the dimensions seem to represent? How can you use this information?"
   ]
  },
  {
   "cell_type": "markdown",
   "metadata": {
    "collapsed": true
   },
   "source": [
    "Answer: \n",
    "- Every dimension seems to represent the importance of a category of item.\n",
    "- Every component seems to represent a different kind of buyer. \n",
    "- Combined together we see 6 different typical customers with their buying habits. Last one for example described mostly by the lack of \"detergent paper\" and \"delicatessen\" and the presence of grocery (but also keeping in mind that this last component only reprensents .6% of the variance)\n",
    "- So we could combine items together in special offers or layout on the floor to maximise spending."
   ]
  },
  {
   "cell_type": "markdown",
   "metadata": {},
   "source": [
    "### ICA"
   ]
  },
  {
   "cell_type": "code",
   "execution_count": 5,
   "metadata": {
    "collapsed": false
   },
   "outputs": [
    {
     "name": "stdout",
     "output_type": "stream",
     "text": [
      "(440, 6)\n",
      "                           PC1           PC2           PC3           PC4  \\\n",
      "Fresh             1.975718e-07 -1.745236e-06  7.256264e-06  3.002750e-07   \n",
      "Milk             -3.978524e-06  8.773944e-07  7.504252e-07  6.664713e-07   \n",
      "Grocery          -3.877177e-07 -2.026075e-07 -5.940163e-07 -5.112360e-07   \n",
      "Frozen           -1.573007e-07 -9.808037e-06  5.948710e-06  3.351463e-07   \n",
      "Detergents_Paper -2.739332e-07  2.557211e-06  1.150108e-05 -1.490365e-06   \n",
      "Delicatessen      8.635962e-07  1.495940e-07 -7.755101e-07 -1.114812e-05   \n",
      "\n",
      "                           PC5           PC6  \n",
      "Fresh            -2.757075e-06 -1.867755e-06  \n",
      "Milk             -2.337444e-06  9.806827e-07  \n",
      "Grocery           5.047233e-07  1.806954e-05  \n",
      "Frozen           -3.689024e-06  6.024651e-06  \n",
      "Detergents_Paper -2.801530e-05 -5.717353e-06  \n",
      "Delicatessen      5.382032e-07  5.964135e-06  \n"
     ]
    }
   ],
   "source": [
    "# TODO: Fit an ICA model to the data\n",
    "# Note: Adjust the data to have center at the origin first!\n",
    "from sklearn.decomposition import FastICA\n",
    "ica = FastICA()\n",
    "S_ = ica.fit_transform(data)\n",
    "A_ = ica.mixing_\n",
    "print np.dot(S_, A_.T).shape\n",
    "# Print the independent components\n",
    "print pd.DataFrame(\n",
    "    ica.components_, \n",
    "    columns = ['PC{}'.format(i) for i in range(1,7)],\n",
    "    index = ['Fresh', 'Milk', 'Grocery','Frozen', 'Detergents_Paper', 'Delicatessen']\n",
    "    )"
   ]
  },
  {
   "cell_type": "code",
   "execution_count": 6,
   "metadata": {
    "collapsed": false
   },
   "outputs": [
    {
     "name": "stdout",
     "output_type": "stream",
     "text": [
      "                       PC1       PC2        PC3        PC4        PC5  \\\n",
      "Fresh             0.197572 -1.745236   7.256264   0.300275  -2.757075   \n",
      "Milk             -3.978524  0.877394   0.750425   0.666471  -2.337444   \n",
      "Grocery          -0.387718 -0.202607  -0.594016  -0.511236   0.504723   \n",
      "Frozen           -0.157301 -9.808037   5.948710   0.335146  -3.689024   \n",
      "Detergents_Paper -0.273933  2.557211  11.501083  -1.490365 -28.015298   \n",
      "Delicatessen      0.863596  0.149594  -0.775510 -11.148120   0.538203   \n",
      "\n",
      "                        PC6  \n",
      "Fresh             -1.867755  \n",
      "Milk               0.980683  \n",
      "Grocery           18.069545  \n",
      "Frozen             6.024651  \n",
      "Detergents_Paper  -5.717353  \n",
      "Delicatessen       5.964135  \n"
     ]
    }
   ],
   "source": [
    "#  Just to put it on a more visiable scale I'll multiply by 1000000\n",
    "print pd.DataFrame(\n",
    "    ica.components_*1000000, \n",
    "    columns = ['PC{}'.format(i) for i in range(1,7)],\n",
    "    index = ['Fresh', 'Milk', 'Grocery','Frozen', 'Detergents_Paper', 'Delicatessen']\n",
    "    )"
   ]
  },
  {
   "cell_type": "markdown",
   "metadata": {},
   "source": [
    "**4)** For each vector in the ICA decomposition, write a sentence or two explaining what sort of object or property it corresponds to. What could these components be used for?"
   ]
  },
  {
   "cell_type": "markdown",
   "metadata": {
    "collapsed": true
   },
   "source": [
    "Answer: ICA is trying to find independant signals in the orginal data. Something independant that, when mixed together, produce the data that we have. As suggested by Mitchell in this [post](https://discussions.udacity.com/t/feature-reduction-ica-pca/39131/3) this could be a deli counter in a grocery store or a bar attached to a restaurant. This could be an owner with two types of establishments and orders everything together. So let's look at every components and try to come up with an explanation for them.\n",
    "\n",
    "Just a note, wholesale is selling in bulk. It could be to either regular households or businesses. I will sometimes provide an explanation for one or the other or both.\n",
    "\n",
    "**PC1**\n",
    "- Lack of Detergents and Paper is dominant. This could represent a restaurant that outsources the cleaning to an outside firm. This could also be valid for household that hire a maid. This could also be someone who lives in the city that has to go to a laundry  mat.\n",
    "\n",
    "**PC2**\n",
    "- Lack of grocery and a presence of fresh produce could be a catering service. They only use fresh food. This could also be the kind of customers that avoid cans and focus on fresh ingredients. Paleo diet would correspond to that.\n",
    "\n",
    "**PC3**\n",
    "- Strong presence of Fresh, Grocery and Frozen. This sounds a lot like the typical family of two adults and two kids.\n",
    "\n",
    "**PC4**\n",
    "- Big focus on Milk. Ice cream shop comes to mind.\n",
    "\n",
    "**PC5**\n",
    "- Buys pretty much everything except Fresh. Fresh tend to cost more than, say, a box of pasta it could be avoided by low income families. But seeing Delicatessen as the only positive value I would rather think that this is a group of people that are often outside home and prefers products without expiration dates but sometimes treat themselves. This could be a group of career oriented people.\n",
    "\n",
    "**PC6**\n",
    "- This could be complementary to PC5 where the people tend to eat outside of home, this component could be the deli or sandwich place that this person goes to. It's mostly influenced by the presence of Delicatessen and a place that sells fresh products (Subway for exemple) would be a bigger consumer of this."
   ]
  },
  {
   "cell_type": "markdown",
   "metadata": {},
   "source": [
    "## Clustering\n",
    "\n",
    "In this section you will choose either K Means clustering or Gaussian Mixed Models clustering, which implements expectation-maximization. Then you will sample elements from the clusters to understand their significance."
   ]
  },
  {
   "cell_type": "markdown",
   "metadata": {},
   "source": [
    "### Choose a Cluster Type\n",
    "\n",
    "**5)** What are the advantages of using K Means clustering or Gaussian Mixture Models?"
   ]
  },
  {
   "cell_type": "markdown",
   "metadata": {},
   "source": [
    "Answer: \n",
    "- The advantage of K Means is \n",
    "    - that *it scales well to large number of samples and has been used across a large range of application areas in many different fields*\n",
    "    - *K-means will always converge, however this may be to a local minimum* [1](http://scikit-learn.org/stable/modules/clustering.html#k-means)\n",
    "    - Because of its simplicity it's easy to understand\n",
    "    - Much easier to interpret the results (centroids) than more complicated algorithms\n",
    "    \n",
    "- The advantages of GMM\n",
    "    - Instead of defining a hard limit to divide the space as with K-Means and Voronoi diagrams it allows every point to have a \"membership\" to every clusters\n",
    "    - If needed a \"no man's land\" can be defined. Meaning that your membership can be at least as strong as a certain treshold to declare you of a certain cluster\n",
    "    - Gaussians are often well behaved: algorithmically friendly, differentiable, mean and variance is well understood."
   ]
  },
  {
   "cell_type": "markdown",
   "metadata": {},
   "source": [
    "**6)** Below is some starter code to help you visualize some cluster data. The visualization is based on [this demo](http://scikit-learn.org/stable/auto_examples/cluster/plot_kmeans_digits.html) from the sklearn documentation."
   ]
  },
  {
   "cell_type": "code",
   "execution_count": 7,
   "metadata": {
    "collapsed": true
   },
   "outputs": [],
   "source": [
    "# Import clustering modules\n",
    "from sklearn.cluster import KMeans\n",
    "from sklearn.mixture import GMM"
   ]
  },
  {
   "cell_type": "code",
   "execution_count": 8,
   "metadata": {
    "collapsed": false
   },
   "outputs": [
    {
     "name": "stdout",
     "output_type": "stream",
     "text": [
      "[[  -650.02212207   1585.51909007]\n",
      " [  4426.80497937   4042.45150884]\n",
      " [  4841.9987068    2578.762176  ]\n",
      " [  -990.34643689  -6279.80599663]\n",
      " [-10657.99873116  -2159.72581518]\n",
      " [  2765.96159271   -959.87072713]\n",
      " [   715.55089221  -2013.00226567]\n",
      " [  4474.58366697   1429.49697204]\n",
      " [  6712.09539718  -2205.90915598]\n",
      " [  4823.63435407  13480.55920489]]\n"
     ]
    }
   ],
   "source": [
    "# TODO: First we reduce the data to two dimensions using PCA to capture variation\n",
    "pca = PCA(n_components=2)\n",
    "reduced_data = pca.fit_transform(data)\n",
    "print reduced_data[:10]  # print upto 10 elements"
   ]
  },
  {
   "cell_type": "code",
   "execution_count": 9,
   "metadata": {
    "collapsed": false
   },
   "outputs": [
    {
     "name": "stdout",
     "output_type": "stream",
     "text": [
      "GMM(covariance_type='diag', init_params='wmc', min_covar=0.001,\n",
      "  n_components=6, n_init=1, n_iter=100, params='wmc', random_state=None,\n",
      "  thresh=None, tol=0.001, verbose=0)\n"
     ]
    }
   ],
   "source": [
    "# TODO: Implement your clustering algorithm here, and fit it to the reduced data for visualization\n",
    "# The visualizer below assumes your clustering object is named 'clusters'\n",
    "clusters = GMM(n_components=6)\n",
    "clusters.fit(reduced_data)\n",
    "clusters\n",
    "print clusters"
   ]
  },
  {
   "cell_type": "code",
   "execution_count": 10,
   "metadata": {
    "collapsed": false
   },
   "outputs": [],
   "source": [
    "# Plot the decision boundary by building a mesh grid to populate a graph.\n",
    "x_min, x_max = reduced_data[:, 0].min() - 1, reduced_data[:, 0].max() + 1\n",
    "y_min, y_max = reduced_data[:, 1].min() - 1, reduced_data[:, 1].max() + 1\n",
    "hx = (x_max-x_min)/1000.\n",
    "hy = (y_max-y_min)/1000.\n",
    "xx, yy = np.meshgrid(np.arange(x_min, x_max, hx), np.arange(y_min, y_max, hy))\n",
    "\n",
    "# Obtain labels for each point in mesh. Use last trained model.\n",
    "Z = clusters.predict(np.c_[xx.ravel(), yy.ravel()])"
   ]
  },
  {
   "cell_type": "code",
   "execution_count": 11,
   "metadata": {
    "collapsed": false
   },
   "outputs": [
    {
     "name": "stdout",
     "output_type": "stream",
     "text": [
      "[[  2917.75633744  -7172.67502341]\n",
      " [  3172.01367966  13259.54628747]\n",
      " [-31722.83442405  -6802.26852706]\n",
      " [-18416.8385771   45914.98214137]\n",
      " [ -5775.25608572  -2804.02019039]\n",
      " [  9533.08979559   2875.86777608]]\n"
     ]
    }
   ],
   "source": [
    "# TODO: Find the centroids for KMeans or the cluster means for GMM \n",
    "centroids = clusters.means_\n",
    "print centroids"
   ]
  },
  {
   "cell_type": "code",
   "execution_count": 12,
   "metadata": {
    "collapsed": false
   },
   "outputs": [
    {
     "data": {
      "image/png": "[encoded data removed]",
      "text/plain": [
       "<matplotlib.figure.Figure at 0x10be74ad0>"
      ]
     },
     "metadata": {},
     "output_type": "display_data"
    }
   ],
   "source": [
    "# Put the result into a color plot\n",
    "Z = Z.reshape(xx.shape)\n",
    "plt.figure(1)\n",
    "plt.clf()\n",
    "plt.imshow(Z, interpolation='nearest',\n",
    "           extent=(xx.min(), xx.max(), yy.min(), yy.max()),\n",
    "           cmap=plt.cm.Paired,\n",
    "           aspect='auto', origin='lower')\n",
    "\n",
    "plt.plot(reduced_data[:, 0], reduced_data[:, 1], 'k.', markersize=2)\n",
    "plt.scatter(centroids[:, 0], centroids[:, 1],\n",
    "            marker='x', s=169, linewidths=3,\n",
    "            color='w', zorder=10)\n",
    "plt.title('Clustering on the wholesale grocery dataset (PCA-reduced data)\\n'\n",
    "          'Centroids are marked with white cross')\n",
    "plt.xlim(x_min, x_max)\n",
    "plt.ylim(y_min, y_max)\n",
    "plt.xticks(())\n",
    "plt.yticks(())\n",
    "plt.show()"
   ]
  },
  {
   "cell_type": "markdown",
   "metadata": {},
   "source": [
    "**7)** What are the central objects in each cluster? Describe them as customers."
   ]
  },
  {
   "cell_type": "markdown",
   "metadata": {
    "collapsed": true
   },
   "source": [
    "Answer: \n",
    "- The central objects are the means of every gaussian mixtures. Data points are given a class based on which mixture provides the highest probability but it has a \"membership\" to all other mixtures as well. It's a little bit of this and a little bit of that. The central objects are the highest point of every mixtures.\n",
    "- Choosing the top two dimensions of the PCA, we see that the points spread along both axis\n",
    "- If we see the central points, the means of the gaussians, as customers they would be your average customer for that group. If we were to have stereotypes for those groups, the central points would be your champion, the face of every group."
   ]
  },
  {
   "cell_type": "markdown",
   "metadata": {},
   "source": [
    "### Conclusions\n",
    "\n",
    "** 8)** Which of these techniques did you feel gave you the most insight into the data?"
   ]
  },
  {
   "cell_type": "markdown",
   "metadata": {
    "collapsed": true
   },
   "source": [
    "Answer: \n",
    "- A combination of both is really the answer here especially if we can cover enough variance with 3 dimensions or less. Reducing the number of dimensions enough allow you to visualize your dataset.\n",
    "- With this visualization you can then judge if the KMean or GMM is struggling to find groups or if you can see the pattern that they detected.\n",
    "- Choosing just one or the other I would go for GMM or Kmean alone. PCA and ICA are really hard to interpret. Clustering algorithms on the other hand allow you to separate your dataset into smaller groups so you can try to find what makes that group unique."
   ]
  },
  {
   "cell_type": "markdown",
   "metadata": {
    "collapsed": true
   },
   "source": [
    "**9)** How would you use that technique to help the company design new experiments?"
   ]
  },
  {
   "cell_type": "markdown",
   "metadata": {},
   "source": [
    "Answer: \n",
    "- Understanding your customers can give you an advantage on how to increase their spending. As I mentionned above you could have complementary offers that would be attractive to your most important group. Or change the layout of your store to either bring products that sell well together or go in the opposite direction completely and put them far appart so you get more traffic on the floor."
   ]
  },
  {
   "cell_type": "markdown",
   "metadata": {},
   "source": [
    "**10)** How would you use that data to help you predict future customer needs?"
   ]
  },
  {
   "cell_type": "markdown",
   "metadata": {},
   "source": [
    "Answer:  \n",
    "- You could try to predict the impact of the socio-economical realities on your groups. For example, if you figure out that you have a group of young parents then you know they won't need diapers for the next 5 years. Their needs will evolve. Or if your customers are other businesses and you find out that there is a group that are best represented as Sport Restaurant then you better be ready for the Stanley Cup, the Super Bowl and the World Series with enough chicken wings and pop corn."
   ]
  }
 ],
 "metadata": {
  "kernelspec": {
   "display_name": "Python 2",
   "language": "python",
   "name": "python2"
  },
  "language_info": {
   "codemirror_mode": {
    "name": "ipython",
    "version": 2
   },
   "file_extension": ".py",
   "mimetype": "text/x-python",
   "name": "python",
   "nbconvert_exporter": "python",
   "pygments_lexer": "ipython2",
   "version": "2.7.11"
  }
 },
 "nbformat": 4,
 "nbformat_minor": 0
}

{
 "cells": [
  {
   "cell_type": "markdown",
   "metadata": {},
   "source": [
    "# Creating Customer Segments"
   ]
  },
  {
   "cell_type": "markdown",
   "metadata": {},
   "source": [
    "In this project you, will analyze a dataset containing annual spending amounts for internal structure, to understand the variation in the different types of customers that a wholesale distributor interacts with.\n",
    "\n",
    "Instructions:\n",
    "\n",
    "- Run each code block below by pressing **Shift+Enter**, making sure to implement any steps marked with a TODO.\n",
    "- Answer each question in the space provided by editing the blocks labeled \"Answer:\".\n",
    "- When you are done, submit the completed notebook (.ipynb) with all code blocks executed, as well as a .pdf version (File > Download as)."
   ]
  },
  {
   "cell_type": "code",
   "execution_count": 1,
   "metadata": {
    "collapsed": false
   },
   "outputs": [
    {
     "name": "stdout",
     "output_type": "stream",
     "text": [
      "Dataset has 440 rows, 6 columns\n",
      "   Fresh  Milk  Grocery  Frozen  Detergents_Paper  Delicatessen\n",
      "0  12669  9656     7561     214              2674          1338\n",
      "1   7057  9810     9568    1762              3293          1776\n",
      "2   6353  8808     7684    2405              3516          7844\n",
      "3  13265  1196     4221    6404               507          1788\n",
      "4  22615  5410     7198    3915              1777          5185\n"
     ]
    }
   ],
   "source": [
    "# Import libraries: NumPy, pandas, matplotlib\n",
    "import numpy as np\n",
    "import pandas as pd\n",
    "import matplotlib.pyplot as plt\n",
    "\n",
    "# Tell iPython to include plots inline in the notebook\n",
    "%matplotlib inline\n",
    "\n",
    "# Read dataset\n",
    "data = pd.read_csv(\"wholesale-customers.csv\")\n",
    "print \"Dataset has {} rows, {} columns\".format(*data.shape)\n",
    "print data.head()  # print the first 5 rows"
   ]
  },
  {
   "cell_type": "markdown",
   "metadata": {},
   "source": [
    "------------"
   ]
  },
  {
   "cell_type": "markdown",
   "metadata": {},
   "source": [
    "## Feature Transformation"
   ]
  },
  {
   "cell_type": "markdown",
   "metadata": {},
   "source": [
    "**1)** In this section you will be using PCA and ICA to start to understand the structure of the data. Before doing any computations, what do you think will show up in your computations? List one or two ideas for what might show up as the first PCA dimensions, or what type of vectors will show up as ICA dimensions."
   ]
  },
  {
   "cell_type": "markdown",
   "metadata": {},
   "source": [
    "Answer:\n",
    "- Because PCA is based on the covariance matrix, maybe only one item will pop out such as Fresh. This has a standard deviation compared to other items so this will probably dominate the first component. \n",
    "- ICA will show independant vectors that explains the original signal. It's a little bit hard to guess at first what will come out."
   ]
  },
  {
   "cell_type": "markdown",
   "metadata": {},
   "source": [
    "### PCA"
   ]
  },
  {
   "cell_type": "code",
   "execution_count": 2,
   "metadata": {
    "collapsed": false
   },
   "outputs": [
    {
     "name": "stdout",
     "output_type": "stream",
     "text": [
      "                       PC1       PC2       PC3       PC4       PC5       PC6\n",
      "Fresh            -0.976537 -0.121184 -0.061540 -0.152365  0.007054 -0.068105\n",
      "Milk             -0.110614  0.515802  0.764606 -0.018723  0.365351  0.057079\n",
      "Grocery          -0.178557  0.509887 -0.275781  0.714200 -0.204410  0.283217\n",
      "Frozen           -0.041876 -0.645640  0.375460  0.646292  0.149380 -0.020396\n",
      "Detergents_Paper  0.015986  0.203236 -0.160292  0.220186  0.207930 -0.917077\n",
      "Delicatessen     -0.015763  0.033492  0.410939 -0.013289 -0.871284 -0.265417\n",
      "               PC1       PC2      PC3       PC4       PC5       PC6\n",
      "Variance  0.459614  0.405172  0.07003  0.044023  0.015022  0.006138\n"
     ]
    }
   ],
   "source": [
    "# TODO: Apply PCA with the same number of dimensions as variables in the dataset\n",
    "from sklearn.decomposition import PCA\n",
    "pca = PCA(n_components=6)\n",
    "pca.fit(data)\n",
    "\n",
    "# Print the components and the amount of variance in the data contained in each dimension\n",
    "print pd.DataFrame(\n",
    "    pca.components_, \n",
    "    columns = ['PC{}'.format(i) for i in range(1,7)],\n",
    "    index = ['Fresh', 'Milk', 'Grocery','Frozen', 'Detergents_Paper', 'Delicatessen']\n",
    "    )\n",
    "print pd.DataFrame(\n",
    "    pca.explained_variance_ratio_.reshape((1,6)) , \n",
    "    columns = ['PC{}'.format(i) for i in range(1,7)],\n",
    "    index = ['Variance']\n",
    "    )\n",
    "             "
   ]
  },
  {
   "cell_type": "markdown",
   "metadata": {},
   "source": [
    "## **2)** How quickly does the variance drop off by dimension? If you were to use PCA on this dataset, how many dimensions would you choose for your analysis? Why?"
   ]
  },
  {
   "cell_type": "markdown",
   "metadata": {
    "collapsed": true
   },
   "source": [
    "Answer: \n",
    "- The variace drops off rapidly after the second dimension. With only two dimensions we have approximately 86% of variance. \n",
    "- To decide how many dimensions to keep we have to ask ourselves why we are doing PCA. Is it to reduce storage space, to reduce dimensionnality or some other reason? The storage here is not a problem. We want keep as much information as possible while reducing the risk of falling in the curse of dimensionnality. Thus, by reducing by three dimensions, from 6 to 3, we still keep 93% of the variance and we allow any kind of machine learning algorithm to better fit the space with the same sample size."
   ]
  },
  {
   "cell_type": "code",
   "execution_count": 4,
   "metadata": {
    "collapsed": false
   },
   "outputs": [
    {
     "data": {
      "text/plain": [
       "<matplotlib.text.Text at 0x102035090>"
      ]
     },
     "execution_count": 4,
     "metadata": {},
     "output_type": "execute_result"
    },
    {
     "data": {
      "image/png": "[encoded data removed]",
      "text/plain": [
       "<matplotlib.figure.Figure at 0x1095323d0>"
      ]
     },
     "metadata": {},
     "output_type": "display_data"
    }
   ],
   "source": [
    "plt.plot(pca.explained_variance_ratio_)\n",
    "plt.scatter(xrange(6), pca.explained_variance_ratio_)\n",
    "plt.ylabel(\"Explained variance\")\n",
    "plt.xlabel(\"Dimension number\")"
   ]
  },
  {
   "cell_type": "markdown",
   "metadata": {},
   "source": [
    "**3)** What do the dimensions seem to represent? How can you use this information?"
   ]
  },
  {
   "cell_type": "markdown",
   "metadata": {
    "collapsed": true
   },
   "source": [
    "Answer: \n",
    "\n",
    "- Every component seems to represent a different kind of buyer. \n",
    "    - For example PC1 is dominated by the negative value of Fresh. It's negatively correlated to everything else. This category is much more important for this group of customers. Meaning that when it's buying alot of Fresh it's not buying much of anything else.\n",
    "    - In PC2 Frozen and especially Fresh is negatively correlated with Milk, Grocery and Detergent_Paper. It could be seen as two buying habits: one with Fresh and Frozen and another with Milk, Grocery and Detergent_Paper.\n",
    "- Combined together we see 6 different typical customers with their buying habits. Last one for example described mostly by the lack of \"detergent paper\" and \"delicatessen\" and the presence of grocery (but also keeping in mind that this last component only reprensents .6% of the variance)\n",
    "- So we could combine items together in special offers or layout on the floor to maximise spending."
   ]
  },
  {
   "cell_type": "markdown",
   "metadata": {},
   "source": [
    "### ICA"
   ]
  },
  {
   "cell_type": "code",
   "execution_count": 108,
   "metadata": {
    "collapsed": false
   },
   "outputs": [
    {
     "name": "stdout",
     "output_type": "stream",
     "text": [
      "(440, 6)\n"
     ]
    },
    {
     "data": {
      "text/html": [
       "<div>\n",
       "<table border=\"1\" class=\"dataframe\">\n",
       "  <thead>\n",
       "    <tr style=\"text-align: right;\">\n",
       "      <th></th>\n",
       "      <th>Fresh</th>\n",
       "      <th>Milk</th>\n",
       "      <th>Grocery</th>\n",
       "      <th>Frozen</th>\n",
       "      <th>Detergents_Paper</th>\n",
       "      <th>Delicatessen</th>\n",
       "    </tr>\n",
       "  </thead>\n",
       "  <tbody>\n",
       "    <tr>\n",
       "      <th>PC1</th>\n",
       "      <td>-3.978395e-06</td>\n",
       "      <td>8.810875e-07</td>\n",
       "      <td>7.432629e-07</td>\n",
       "      <td>6.674419e-07</td>\n",
       "      <td>-2.325392e-06</td>\n",
       "      <td>9.794714e-07</td>\n",
       "    </tr>\n",
       "    <tr>\n",
       "      <th>PC2</th>\n",
       "      <td>8.631979e-07</td>\n",
       "      <td>1.473903e-07</td>\n",
       "      <td>-7.759939e-07</td>\n",
       "      <td>-1.114811e-05</td>\n",
       "      <td>5.405627e-07</td>\n",
       "      <td>5.974442e-06</td>\n",
       "    </tr>\n",
       "    <tr>\n",
       "      <th>PC3</th>\n",
       "      <td>1.602467e-07</td>\n",
       "      <td>9.796655e-06</td>\n",
       "      <td>-5.981916e-06</td>\n",
       "      <td>-3.324834e-07</td>\n",
       "      <td>3.785341e-06</td>\n",
       "      <td>-5.993927e-06</td>\n",
       "    </tr>\n",
       "    <tr>\n",
       "      <th>PC4</th>\n",
       "      <td>-1.970741e-07</td>\n",
       "      <td>1.754937e-06</td>\n",
       "      <td>-7.266282e-06</td>\n",
       "      <td>-2.995833e-07</td>\n",
       "      <td>2.770327e-06</td>\n",
       "      <td>1.856041e-06</td>\n",
       "    </tr>\n",
       "    <tr>\n",
       "      <th>PC5</th>\n",
       "      <td>2.750160e-07</td>\n",
       "      <td>-2.592235e-06</td>\n",
       "      <td>-1.147771e-05</td>\n",
       "      <td>1.492804e-06</td>\n",
       "      <td>2.800186e-05</td>\n",
       "      <td>5.727265e-06</td>\n",
       "    </tr>\n",
       "    <tr>\n",
       "      <th>PC6</th>\n",
       "      <td>3.882090e-07</td>\n",
       "      <td>2.098617e-07</td>\n",
       "      <td>5.984854e-07</td>\n",
       "      <td>5.051525e-07</td>\n",
       "      <td>-5.176794e-07</td>\n",
       "      <td>-1.807449e-05</td>\n",
       "    </tr>\n",
       "  </tbody>\n",
       "</table>\n",
       "</div>"
      ],
      "text/plain": [
       "            Fresh          Milk       Grocery        Frozen  Detergents_Paper  \\\n",
       "PC1 -3.978395e-06  8.810875e-07  7.432629e-07  6.674419e-07     -2.325392e-06   \n",
       "PC2  8.631979e-07  1.473903e-07 -7.759939e-07 -1.114811e-05      5.405627e-07   \n",
       "PC3  1.602467e-07  9.796655e-06 -5.981916e-06 -3.324834e-07      3.785341e-06   \n",
       "PC4 -1.970741e-07  1.754937e-06 -7.266282e-06 -2.995833e-07      2.770327e-06   \n",
       "PC5  2.750160e-07 -2.592235e-06 -1.147771e-05  1.492804e-06      2.800186e-05   \n",
       "PC6  3.882090e-07  2.098617e-07  5.984854e-07  5.051525e-07     -5.176794e-07   \n",
       "\n",
       "     Delicatessen  \n",
       "PC1  9.794714e-07  \n",
       "PC2  5.974442e-06  \n",
       "PC3 -5.993927e-06  \n",
       "PC4  1.856041e-06  \n",
       "PC5  5.727265e-06  \n",
       "PC6 -1.807449e-05  "
      ]
     },
     "execution_count": 108,
     "metadata": {},
     "output_type": "execute_result"
    }
   ],
   "source": [
    "# TODO: Fit an ICA model to the data\n",
    "# Note: Adjust the data to have center at the origin first!\n",
    "from sklearn.decomposition import FastICA\n",
    "ica = FastICA(n_components=6)\n",
    "S_ = ica.fit_transform(data)\n",
    "A_ = ica.mixing_\n",
    "print np.dot(S_, A_.T).shape\n",
    "# Print the independent components\n",
    "pd.DataFrame(\n",
    "    ica.components_, \n",
    "    index = ['PC{}'.format(i) for i in range(1,7)],\n",
    "    columns = ['Fresh', 'Milk', 'Grocery','Frozen', 'Detergents_Paper', 'Delicatessen']\n",
    "    )"
   ]
  },
  {
   "cell_type": "code",
   "execution_count": 109,
   "metadata": {
    "collapsed": false
   },
   "outputs": [
    {
     "name": "stdout",
     "output_type": "stream",
     "text": [
      "        Fresh      Milk   Grocery    Frozen  Detergents_Paper  Delicatessen\n",
      "PC1 -0.812617  0.179969  0.151817  0.136330         -0.474979      0.200064\n",
      "PC2  0.067896  0.011593 -0.061037 -0.876865          0.042518      0.469925\n",
      "PC3  0.011873  0.725877 -0.443227 -0.024635          0.280473     -0.444117\n",
      "PC4 -0.024054  0.214197 -0.886878 -0.036565          0.338129      0.226537\n",
      "PC5  0.008887 -0.083766 -0.370892  0.048239          0.904856      0.185072\n",
      "PC6  0.021443  0.011592  0.033058  0.027902         -0.028594     -0.998357\n"
     ]
    }
   ],
   "source": [
    "#  Just to put it on a more visiable scale I'll normalise the components\n",
    "print pd.DataFrame(\n",
    "    ica.components_/np.linalg.norm(ica.components_, axis=1).reshape(6,1), \n",
    "    index = ['PC{}'.format(i) for i in range(1,7)],\n",
    "    columns = ['Fresh', 'Milk', 'Grocery','Frozen', 'Detergents_Paper', 'Delicatessen']\n",
    "    )"
   ]
  },
  {
   "cell_type": "markdown",
   "metadata": {},
   "source": [
    "**4)** For each vector in the ICA decomposition, write a sentence or two explaining what sort of object or property it corresponds to. What could these components be used for?"
   ]
  },
  {
   "cell_type": "markdown",
   "metadata": {
    "collapsed": true
   },
   "source": [
    "Answer: ICA is trying to find independant signals in the orginal data. Something independant that, when mixed together, produce the data that we have. As suggested by Mitchell in this [post](https://discussions.udacity.com/t/feature-reduction-ica-pca/39131/3) this could be a deli counter in a grocery store or a bar attached to a restaurant. This could be an owner with two types of establishments and orders everything together. So let's look at every components and try to come up with an explanation for them.\n",
    "\n",
    "Just a note, wholesale is selling in bulk. It could be to either regular households or businesses. I will sometimes provide an explanation for one or the other or both.\n",
    "\n",
    "**PC1**\n",
    "- Fresh and Detergents_Paper are notoriously missing and the rest is more or less equivalent. Career oriented people could fit the profile. They often eat outside home so they don't buy much Fresh and they don't have to clean as much. They probably even use the laundry mat instead of washing their own clothes.\n",
    "\n",
    "\n",
    "**PC2**\n",
    "- Dominated by the lack of Frozen and the presence of Delicatessen. This could be complementary to PC1 where the people tend to eat outside of home, this component could be the deli or sandwich place that this person goes to. It's mostly influenced by the presence of Delicatessen and a place that sells fresh products (Subway for exemple) would be a bigger consumer of this.\n",
    "\n",
    "**PC3**\n",
    "- Big focus on Milk. Ice cream shop that does their own products comes to mind. They would mostly need Milk and not the rest.\n",
    "\n",
    "**PC4**\n",
    "- Large negative value in Grocery indicate a group of health concious people that avoids the \"middle aisle\", staying on the outside prefering fresh and raw ingredients.\n",
    "\n",
    "**PC5**\n",
    "- Detergent_Paper is largely dominant. This would be a group focused on cleaning. Laudry mat, house cleaning, janitors, ...\n",
    "\n",
    "**PC6**\n",
    "- A group of bachelor that doesn't like to cook and buys pre made food such as sandwiches."
   ]
  },
  {
   "cell_type": "markdown",
   "metadata": {},
   "source": [
    "-------------"
   ]
  },
  {
   "cell_type": "markdown",
   "metadata": {},
   "source": [
    "## Clustering\n",
    "\n",
    "In this section you will choose either K Means clustering or Gaussian Mixed Models clustering, which implements expectation-maximization. Then you will sample elements from the clusters to understand their significance."
   ]
  },
  {
   "cell_type": "markdown",
   "metadata": {},
   "source": [
    "### Choose a Cluster Type\n",
    "\n",
    "**5)** What are the advantages of using K Means clustering or Gaussian Mixture Models?"
   ]
  },
  {
   "cell_type": "markdown",
   "metadata": {},
   "source": [
    "Answer: \n",
    "- The advantage of K Means is \n",
    "    - that *it scales well to large number of samples and has been used across a large range of application areas in many different fields*\n",
    "    - *K-means will always converge, however this may be to a local minimum* [1](http://scikit-learn.org/stable/modules/clustering.html#k-means)\n",
    "    - Because of its simplicity it's easy to understand\n",
    "    - Much easier to interpret the results (centroids) than more complicated algorithms\n",
    "    \n",
    "- The advantages of GMM\n",
    "    - Instead of defining a hard limit to divide the space as with K-Means and Voronoi diagrams it allows every point to have a \"membership\" to every clusters\n",
    "    - If needed a \"no man's land\" can be defined. Meaning that your membership can be at least as strong as a certain treshold to declare you of a certain cluster\n",
    "    - Gaussians are often well behaved: algorithmically friendly, differentiable, mean and variance is well understood."
   ]
  },
  {
   "cell_type": "markdown",
   "metadata": {},
   "source": [
    "**6)** Below is some starter code to help you visualize some cluster data. The visualization is based on [this demo](http://scikit-learn.org/stable/auto_examples/cluster/plot_kmeans_digits.html) from the sklearn documentation."
   ]
  },
  {
   "cell_type": "code",
   "execution_count": 7,
   "metadata": {
    "collapsed": true
   },
   "outputs": [],
   "source": [
    "# Import clustering modules\n",
    "from sklearn.cluster import KMeans\n",
    "from sklearn.mixture import GMM"
   ]
  },
  {
   "cell_type": "code",
   "execution_count": 8,
   "metadata": {
    "collapsed": false
   },
   "outputs": [
    {
     "name": "stdout",
     "output_type": "stream",
     "text": [
      "[[  -650.02212207   1585.51909007]\n",
      " [  4426.80497937   4042.45150884]\n",
      " [  4841.9987068    2578.762176  ]\n",
      " [  -990.34643689  -6279.80599663]\n",
      " [-10657.99873116  -2159.72581518]\n",
      " [  2765.96159271   -959.87072713]\n",
      " [   715.55089221  -2013.00226567]\n",
      " [  4474.58366697   1429.49697204]\n",
      " [  6712.09539718  -2205.90915598]\n",
      " [  4823.63435407  13480.55920489]]\n"
     ]
    }
   ],
   "source": [
    "# TODO: First we reduce the data to two dimensions using PCA to capture variation\n",
    "pca = PCA(n_components=2)\n",
    "reduced_data = pca.fit_transform(data)\n",
    "print reduced_data[:10]  # print upto 10 elements"
   ]
  },
  {
   "cell_type": "code",
   "execution_count": 9,
   "metadata": {
    "collapsed": false
   },
   "outputs": [
    {
     "name": "stdout",
     "output_type": "stream",
     "text": [
      "GMM(covariance_type='diag', init_params='wmc', min_covar=0.001,\n",
      "  n_components=4, n_init=1, n_iter=100, params='wmc', random_state=None,\n",
      "  thresh=None, tol=0.001, verbose=0)\n"
     ]
    }
   ],
   "source": [
    "# TODO: Implement your clustering algorithm here, and fit it to the reduced data for visualization\n",
    "# The visualizer below assumes your clustering object is named 'clusters'\n",
    "clusters = GMM(n_components=4)\n",
    "clusters.fit(reduced_data)\n",
    "print clusters"
   ]
  },
  {
   "cell_type": "code",
   "execution_count": 10,
   "metadata": {
    "collapsed": false
   },
   "outputs": [],
   "source": [
    "# Plot the decision boundary by building a mesh grid to populate a graph.\n",
    "x_min, x_max = reduced_data[:, 0].min() - 1, reduced_data[:, 0].max() + 1\n",
    "y_min, y_max = reduced_data[:, 1].min() - 1, reduced_data[:, 1].max() + 1\n",
    "hx = (x_max-x_min)/1000.\n",
    "hy = (y_max-y_min)/1000.\n",
    "xx, yy = np.meshgrid(np.arange(x_min, x_max, hx), np.arange(y_min, y_max, hy))\n",
    "\n",
    "# Obtain labels for each point in mesh. Use last trained model.\n",
    "Z = clusters.predict(np.c_[xx.ravel(), yy.ravel()])"
   ]
  },
  {
   "cell_type": "code",
   "execution_count": 11,
   "metadata": {
    "collapsed": false
   },
   "outputs": [
    {
     "name": "stdout",
     "output_type": "stream",
     "text": [
      "[[  2339.15204219  -6708.93065712]\n",
      " [  7174.54719282   5469.02876453]\n",
      " [-15372.37194307  -3334.43379857]\n",
      " [ -9486.9742574   34645.20428228]]\n"
     ]
    }
   ],
   "source": [
    "# TODO: Find the centroids for KMeans or the cluster means for GMM \n",
    "centroids = clusters.means_\n",
    "print centroids"
   ]
  },
  {
   "cell_type": "code",
   "execution_count": 12,
   "metadata": {
    "collapsed": false
   },
   "outputs": [
    {
     "data": {
      "image/png": "[encoded data removed]",
      "text/plain": [
       "<matplotlib.figure.Figure at 0x10b66ead0>"
      ]
     },
     "metadata": {},
     "output_type": "display_data"
    }
   ],
   "source": [
    "# Put the result into a color plot\n",
    "Z = Z.reshape(xx.shape)\n",
    "plt.figure(1)\n",
    "plt.clf()\n",
    "plt.imshow(Z, interpolation='nearest',\n",
    "           extent=(xx.min(), xx.max(), yy.min(), yy.max()),\n",
    "           cmap=plt.cm.Paired,\n",
    "           aspect='auto', origin='lower')\n",
    "\n",
    "plt.plot(reduced_data[:, 0], reduced_data[:, 1], 'k.', markersize=2)\n",
    "plt.scatter(centroids[:, 0], centroids[:, 1],\n",
    "            marker='x', s=169, linewidths=3,\n",
    "            color='w', zorder=10)\n",
    "plt.title('Clustering on the wholesale grocery dataset (PCA-reduced data)\\n'\n",
    "          'Centroids are marked with white cross')\n",
    "plt.xlim(x_min, x_max)\n",
    "plt.ylim(y_min, y_max)\n",
    "plt.xticks(())\n",
    "plt.yticks(())\n",
    "plt.show()"
   ]
  },
  {
   "cell_type": "markdown",
   "metadata": {},
   "source": [
    "After trying a couple of different number of clusters I find that 4 seems to best create groups. Two main ones on the bottom right are quite clear to see. The other two (that takes most of the screen) would be described more as not being the other two more than being clusters of their own. Sort of the category \"Other\". They are very spread out. The lowest group at the bottom right (spread on the horizontal axis) seems to have its own complementary group, its own \"Other\" group (the large space at the bottom). Same thing for the top two groups."
   ]
  },
  {
   "cell_type": "markdown",
   "metadata": {},
   "source": [
    "**7)** What are the central objects in each cluster? Describe them as customers."
   ]
  },
  {
   "cell_type": "markdown",
   "metadata": {
    "collapsed": true
   },
   "source": [
    "Answer: \n",
    "- The central objects are the means of every gaussian mixtures. Data points are given a class based on which mixture provides the highest probability but it has a \"membership\" to all other mixtures as well. It's a little bit of this and a little bit of that. The central objects are the highest point of every mixtures.\n",
    "- Choosing the top two dimensions of the PCA, we see that the points spread along both axis\n",
    "- If we see the central points, the means of the gaussians, as customers they would be your average customer for that group. If we were to have stereotypes for those groups, the central points would be your champion, the face of every group."
   ]
  },
  {
   "cell_type": "code",
   "execution_count": 13,
   "metadata": {
    "collapsed": false
   },
   "outputs": [],
   "source": [
    "df = pd.DataFrame(\n",
    "    np.concatenate(\n",
    "        (data, clusters.predict(reduced_data).reshape((440,1))), \n",
    "        axis=1), \n",
    "    columns=['Fresh', 'Milk', 'Grocery','Frozen', 'Detergents_Paper', 'Delicatessen', 'label'])"
   ]
  },
  {
   "cell_type": "markdown",
   "metadata": {},
   "source": [
    "Let's look at the median of every category for each label"
   ]
  },
  {
   "cell_type": "code",
   "execution_count": 14,
   "metadata": {
    "collapsed": false
   },
   "outputs": [
    {
     "data": {
      "text/plain": [
       "(0.65098041296005249, 0.80784314870834351, 0.89019608497619629, 1.0)"
      ]
     },
     "execution_count": 14,
     "metadata": {},
     "output_type": "execute_result"
    }
   ],
   "source": [
    "plt.cm.Paired(0)"
   ]
  },
  {
   "cell_type": "markdown",
   "metadata": {},
   "source": [
    "Let's show a bar plot of the median of each group for every categories. I chose the same color as the plot as question number 6."
   ]
  },
  {
   "cell_type": "code",
   "execution_count": 15,
   "metadata": {
    "collapsed": false
   },
   "outputs": [
    {
     "data": {
      "image/png": "[encoded data removed]",
      "text/plain": [
       "<matplotlib.figure.Figure at 0x10b68d590>"
      ]
     },
     "metadata": {},
     "output_type": "display_data"
    }
   ],
   "source": [
    "fig, ax = plt.subplots(4,1, sharey=True, figsize=(15,10), sharex=True)\n",
    "ax = ax.ravel()\n",
    "ind = np.arange(6)\n",
    "width=0.9\n",
    "columns = ['Fresh', 'Milk', 'Grocery','Frozen', 'Detergents_Paper', 'Delicatessen']\n",
    "colors = [\"#a8cfe3\",\"#b89c77\",\"#ec904f\",\"#b05a2f\"]\n",
    "for label in range(4):\n",
    "    data = df[df.label==label][columns].median()\n",
    "    ax[label].bar(ind+width, data.values, width, color=colors[label])\n",
    "    ax[label].set_xticks(ind+1.5*width)\n",
    "    ax[label].set_xticklabels(columns, rotation=45)\n",
    "    ax[label].set_ylabel('Median spend')\n",
    "    ax[label].set_title(\"Group {}\".format(label))"
   ]
  },
  {
   "cell_type": "markdown",
   "metadata": {},
   "source": [
    "As I mentioned at the question number 6 there seemed to be two groups with two sub groups in each for a total of 4. There are two main groups and two others that I considered to be the \"other\" category of the main two. Here we see that group 0 and 3 are very proportional to each other and same thing for group 1 and 2. So I will analyze them together."
   ]
  },
  {
   "cell_type": "markdown",
   "metadata": {},
   "source": [
    "#### Group 0 and 3\n",
    "Relative to one another, the categories Frozen and Delicatessen account for a lot less than every thing else in the basket. This sounds like an average family that goes a lot in the middle isle (cans, pasta and such)."
   ]
  },
  {
   "cell_type": "markdown",
   "metadata": {},
   "source": [
    "#### Group 1 and 2\n",
    "Relative to one another, the category Fresh is dominating the basket, the rest playing a much minor role in spending. We can see a link with the first component of PCA where Fresh was the most influencial factor. So this is a group focused on eating Fresh. Perhaps a group of people who are following the Paleo diet or quite simply just a restaurant or a caterer."
   ]
  },
  {
   "cell_type": "markdown",
   "metadata": {},
   "source": [
    "Overall we could probably use two groups only. The first two dimensions of PCA already accounted for over 85% of the variance and it shows in this analysis of GMM. Using 4 looked interesting at first only to realize that there where only two on a different scale. "
   ]
  },
  {
   "cell_type": "markdown",
   "metadata": {},
   "source": [
    "------------------------"
   ]
  },
  {
   "cell_type": "markdown",
   "metadata": {},
   "source": [
    "### Conclusions"
   ]
  },
  {
   "cell_type": "markdown",
   "metadata": {},
   "source": [
    "**8)** Which of these techniques did you feel gave you the most insight into the data?"
   ]
  },
  {
   "cell_type": "markdown",
   "metadata": {
    "collapsed": true
   },
   "source": [
    "Answer: \n",
    "- A combination of both is really the answer here especially if we can cover enough variance with 3 dimensions or less. Reducing the number of dimensions enough allow you to visualize your dataset.\n",
    "- With this visualization you can then judge if the KMean or GMM is struggling to find groups or if you can see the pattern that they detected.\n",
    "- Choosing just one or the other I would go for GMM or Kmean alone. PCA and ICA are really hard to interpret. Clustering algorithms on the other hand allow you to separate your dataset into smaller groups so you can try to find what makes that group unique."
   ]
  },
  {
   "cell_type": "markdown",
   "metadata": {
    "collapsed": true
   },
   "source": [
    "**9)** How would you use that technique to help the company design new experiments?"
   ]
  },
  {
   "cell_type": "markdown",
   "metadata": {},
   "source": [
    "Answer: \n",
    "- Understanding your customers can give you an advantage on how to increase their spending. As I mentionned above you could have complementary offers that would be attractive to your most important group. Or change the layout of your store to either bring products that sell well together or go in the opposite direction completely and put them far appart so you get more traffic on the floor."
   ]
  },
  {
   "cell_type": "markdown",
   "metadata": {},
   "source": [
    "**10)** How would you use that data to help you predict future customer needs?"
   ]
  },
  {
   "cell_type": "markdown",
   "metadata": {},
   "source": [
    "Answer:  \n",
    "- You could try to predict the impact of the socio-economical realities on your groups. For example, if you figure out that you have a group of young parents then you know they won't need diapers for the next 5 years. Their needs will evolve. Or if your customers are other businesses and you find out that there is a group that are best represented as Sport Restaurant then you better be ready for the Stanley Cup, the Super Bowl and the World Series with enough chicken wings and pop corn."
   ]
  },
  {
   "cell_type": "code",
   "execution_count": null,
   "metadata": {
    "collapsed": true
   },
   "outputs": [],
   "source": []
  }
 ],
 "metadata": {
  "kernelspec": {
   "display_name": "Python 2",
   "language": "python",
   "name": "python2"
  },
  "language_info": {
   "codemirror_mode": {
    "name": "ipython",
    "version": 2
   },
   "file_extension": ".py",
   "mimetype": "text/x-python",
   "name": "python",
   "nbconvert_exporter": "python",
   "pygments_lexer": "ipython2",
   "version": "2.7.11"
  }
 },
 "nbformat": 4,
 "nbformat_minor": 0
}

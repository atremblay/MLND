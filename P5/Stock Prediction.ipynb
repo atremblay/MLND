{
 "cells": [
  {
   "cell_type": "markdown",
   "metadata": {},
   "source": [
    "# Problem\n",
    "\n",
    "I used to be an actuary so my financial future is of big concern to me. I was recently really disappointed in the return of my investments and felt somewhat powerless because I don't know much about investing. I know about how much I'm going to need for my retirement, but not the details of how to get there. Being an hands-on guy I figured I could use this Project 5 opportunity to learn more about finance and see if my knowledge of machine learning can help me save on commission and make better decisions on my own. Understanding what has a significant impact on one's life is important not only to me but to everyone. If I can help those around me, my wife, my family and my friends with their investments decisions why not take a shot at it. "
   ]
  },
  {
   "cell_type": "markdown",
   "metadata": {},
   "source": [
    "# Solution\n",
    "\n",
    "This is a **prediction** problem. I want to know what will be the return of an investment in the future. What will be the return over a certain period of time so I can issue a Buy or Sell order. This is not about building a diverse portfolio but rather a tool to help build it. Building the portfolio will be the next step after this project.\n",
    "\n",
    "This could be a classification problem if I was trying to issue a Buy or Sell order, but here I want to output the return value and not an action. \n",
    "\n",
    "The predictions will need to be as precise as possible. Underestimating or overestimating the return of a stock will necessarily mean that the Buy/Sell decisions won't be as informed as possible. It will of course not be possible to be 100% accurate, but I think that within 5% is good enough. So if the true return is 10% then if I predict between 9.5% and 10.5% the algorithm is good enough. I don't expect such precision if the prediction is too far in the future. The further it is in the future, the less certain our predictions will be. So 5% for a 7 day forecast is my goal.\n",
    "\n",
    "\n",
    "### Approach\n",
    "\n",
    "- Two algorithms will be mainly expolored, support vector regression (SVR) and kNN.\n",
    "    - I expect the returns (the object of our prediction) to be somewhat chaotic given the features I will use. kNN is a good choice for that\n",
    "    - SVR is also very adaptable because of its kernel trick so it could adapt to this anticipated chaotic landscape.\n",
    "- Training and testing set size will be 70/30 split in time. The testing set will be after the training set so we are not peeking into the future when training\n",
    "- GridSearch will be used with Mean Squared Error (MSE) as a minimization metric. I want the model to fit as best as possible the large values of stock price changes\n",
    "- Bagging will be used as well because it is less prone to overfitting. It will take the mean of every model so the overfitting will be smoothed out.\n",
    "- The speed requirements for training is not that great for the current problem. I am not dealing in High Frequency Trading. A human will take a short (few days) to mid (few weeks) term decision based on the predictions.\n",
    "\n",
    "#### Features\n",
    "\n",
    "Many features could be interesting such as P/E Ratio and Ebitda, but those informations only come out every quarter and I'm looking at features than changes at least every day like the following:\n",
    "- Volume\n",
    "- Adjusted Close\n",
    "- Adjusted High\n",
    "- Adjusted Low\n",
    "- Adjusted Open\n",
    "- 10 day rolling mean and \n",
    "- 10 day rolling standard deviation (for the [Bollinger Bands](https://en.wikipedia.org/wiki/Bollinger_Bands))\n",
    "- S&P500 index\n",
    "\n",
    "#### Target\n",
    "- Return over X days $\\left(\\frac{price_{t+x}}{price_{t}} - 1\\right)$\n",
    "\n",
    "#### Data Source\n",
    "- Quandl API\n",
    "- Yahoo Finance\n",
    "\n",
    "### Package Requirements\n",
    "- numpy:           1.10.2\n",
    "- pandas:          0.17.1\n",
    "- python-dateutil: 2.4.2\n",
    "- pytz:            2015.7\n",
    "- quandl:          2.8.9\n",
    "- requests:        2.9.0\n",
    "- six:             1.10.0\n",
    "- scikit-learn:    0.17\n",
    "- scipy:           0.16.1"
   ]
  },
  {
   "cell_type": "code",
   "execution_count": 1,
   "metadata": {
    "collapsed": false
   },
   "outputs": [
    {
     "name": "stdout",
     "output_type": "stream",
     "text": [
      "Populating the interactive namespace from numpy and matplotlib\n"
     ]
    }
   ],
   "source": [
    "%pylab inline"
   ]
  },
  {
   "cell_type": "code",
   "execution_count": 2,
   "metadata": {
    "collapsed": false
   },
   "outputs": [
    {
     "name": "stderr",
     "output_type": "stream",
     "text": [
      "/Users/alexis/anaconda/envs/MLND/lib/python2.7/site-packages/matplotlib/__init__.py:872: UserWarning: axes.color_cycle is deprecated and replaced with axes.prop_cycle; please use the latter.\n",
      "  warnings.warn(self.msg_depr % (key, alt_key))\n"
     ]
    }
   ],
   "source": [
    "from predictor import SVRPredictor, Stock, KNNPredictor\n",
    "import matplotlib.pyplot as plt\n",
    "import seaborn as sns\n",
    "import numpy as np\n",
    "import pandas as pd"
   ]
  },
  {
   "cell_type": "markdown",
   "metadata": {},
   "source": [
    "### SVR"
   ]
  },
  {
   "cell_type": "code",
   "execution_count": 3,
   "metadata": {
    "collapsed": false
   },
   "outputs": [
    {
     "name": "stdout",
     "output_type": "stream",
     "text": [
      "                Open      High       Low    Volume  Adjusted Close  SP Close  \\\n",
      "Date                                                                           \n",
      "2015-01-02  0.825168  0.825048  0.810375  0.328006        0.818223  0.965919   \n",
      "2015-01-05  0.802204  0.804392  0.795730  0.396319        0.795172  0.948264   \n",
      "2015-01-06  0.789240  0.795360  0.789842  0.405638        0.795247  0.939831   \n",
      "2015-01-07  0.794129  0.801060  0.805468  0.247252        0.806398  0.950761   \n",
      "2015-01-08  0.809167  0.830304  0.820566  0.365981        0.837382  0.967768   \n",
      "\n",
      "                 ATR  r_mean10   r_std10  r_high22   r_low22  tenkansen9  \\\n",
      "Date                                                                       \n",
      "2015-01-02  0.011224  0.839739  0.010833  0.867617  0.798914    0.835660   \n",
      "2015-01-05  0.012439  0.834949  0.017644  0.867617  0.795172    0.824135   \n",
      "2015-01-06  0.012178  0.830818  0.021615  0.864324  0.795172    0.824135   \n",
      "2015-01-07  0.011327  0.826934  0.022217  0.860657  0.795172    0.824135   \n",
      "2015-01-08  0.012092  0.826448  0.021896  0.854071  0.795172    0.824135   \n",
      "\n",
      "            kijunsen26   senkouA  senkouB52  chikou26     ema10  \n",
      "Date                                                             \n",
      "2015-01-02    0.844753  0.840207   0.816985  0.887824 -0.174267  \n",
      "2015-01-05    0.842882  0.833509   0.827082  0.880115 -0.197247  \n",
      "2015-01-06    0.842620  0.833378   0.829020  0.890593 -0.191511  \n",
      "2015-01-07    0.831394  0.827765   0.835875  0.890069 -0.175478  \n",
      "2015-01-08    0.831394  0.827765   0.836918  0.861181 -0.139904  \n"
     ]
    },
    {
     "data": {
      "text/plain": [
       "<predictor.SVRPredictor at 0x109260bd0>"
      ]
     },
     "execution_count": 3,
     "metadata": {},
     "output_type": "execute_result"
    }
   ],
   "source": [
    "svr = SVRPredictor(['AAPL'], 7)\n",
    "svr.fit(start_date='2015-01-01', end_date='2015-10-31')"
   ]
  },
  {
   "cell_type": "code",
   "execution_count": 4,
   "metadata": {
    "collapsed": false
   },
   "outputs": [
    {
     "data": {
      "text/plain": [
       "SVR(C=100, cache_size=200, coef0=0.0, degree=3, epsilon=1e-05, gamma='auto',\n",
       "  kernel='linear', max_iter=-1, shrinking=True, tol=0.001, verbose=False)"
      ]
     },
     "execution_count": 4,
     "metadata": {},
     "output_type": "execute_result"
    }
   ],
   "source": [
    "svr.models['AAPL']"
   ]
  },
  {
   "cell_type": "code",
   "execution_count": 5,
   "metadata": {
    "collapsed": false
   },
   "outputs": [],
   "source": [
    "predictions = svr.transform(['AAPL'], start_date='2015-11-01', end_date='2015-12-31')"
   ]
  },
  {
   "cell_type": "code",
   "execution_count": 6,
   "metadata": {
    "collapsed": false
   },
   "outputs": [
    {
     "data": {
      "text/plain": [
       "<matplotlib.legend.Legend at 0x10933e310>"
      ]
     },
     "execution_count": 6,
     "metadata": {},
     "output_type": "execute_result"
    },
    {
     "data": {
      "image/png": "[encoded data removed]",
      "text/plain": [
       "<matplotlib.figure.Figure at 0x10933a5d0>"
      ]
     },
     "metadata": {},
     "output_type": "display_data"
    }
   ],
   "source": [
    "y_pred, y_true = predictions['AAPL']\n",
    "plt.plot(range(0,len(y_pred)), y_pred, linewidth=1)\n",
    "plt.plot(range(0,len(predictions['AAPL'][1])), predictions['AAPL'][1], linewidth=1)\n",
    "plt.xticks(4*np.arange(len(y_pred)/4), y_pred.index[::4], rotation=45)\n",
    "# plt.plot(range(0,len(y_pred)), np.array(y_pred) - np.array(y_test), linewidth=1)\n",
    "plt.legend(['pred', 'true'])"
   ]
  },
  {
   "cell_type": "code",
   "execution_count": 8,
   "metadata": {
    "collapsed": false
   },
   "outputs": [
    {
     "data": {
      "text/plain": [
       "0.06698136525608457"
      ]
     },
     "execution_count": 8,
     "metadata": {},
     "output_type": "execute_result"
    }
   ],
   "source": [
    "((y_pred-y_true)**2).mean()**0.5"
   ]
  },
  {
   "cell_type": "markdown",
   "metadata": {},
   "source": [
    "### kNN"
   ]
  },
  {
   "cell_type": "code",
   "execution_count": 7,
   "metadata": {
    "collapsed": false
   },
   "outputs": [
    {
     "name": "stdout",
     "output_type": "stream",
     "text": [
      "                Open      High       Low    Volume  Adjusted Close  SP Close  \\\n",
      "Date                                                                           \n",
      "2015-01-02  0.825168  0.825048  0.810375  0.328006        0.818223  0.965919   \n",
      "2015-01-05  0.802204  0.804392  0.795730  0.396319        0.795172  0.948264   \n",
      "2015-01-06  0.789240  0.795360  0.789842  0.405638        0.795247  0.939831   \n",
      "2015-01-07  0.794129  0.801060  0.805468  0.247252        0.806398  0.950761   \n",
      "2015-01-08  0.809167  0.830304  0.820566  0.365981        0.837382  0.967768   \n",
      "\n",
      "            r_mean10   r_std10  \n",
      "Date                            \n",
      "2015-01-02  0.839739  0.010833  \n",
      "2015-01-05  0.834949  0.017644  \n",
      "2015-01-06  0.830818  0.021615  \n",
      "2015-01-07  0.826934  0.022217  \n",
      "2015-01-08  0.826448  0.021896  \n"
     ]
    },
    {
     "data": {
      "text/plain": [
       "<predictor.KNNPredictor at 0x109440610>"
      ]
     },
     "execution_count": 7,
     "metadata": {},
     "output_type": "execute_result"
    }
   ],
   "source": [
    "knn = KNNPredictor(['AAPL'], 7)\n",
    "knn.fit(start_date='2015-01-01', end_date='2015-10-31')"
   ]
  },
  {
   "cell_type": "code",
   "execution_count": 8,
   "metadata": {
    "collapsed": false
   },
   "outputs": [
    {
     "data": {
      "text/plain": [
       "KNeighborsRegressor(algorithm='auto', leaf_size=30, metric='minkowski',\n",
       "          metric_params=None, n_jobs=1, n_neighbors=15, p=2,\n",
       "          weights='uniform')"
      ]
     },
     "execution_count": 8,
     "metadata": {},
     "output_type": "execute_result"
    }
   ],
   "source": [
    "knn.models['AAPL']"
   ]
  },
  {
   "cell_type": "code",
   "execution_count": 9,
   "metadata": {
    "collapsed": false
   },
   "outputs": [],
   "source": [
    "predictions = knn.transform(['AAPL'], start_date='2015-11-01', end_date='2015-12-31')"
   ]
  },
  {
   "cell_type": "code",
   "execution_count": 10,
   "metadata": {
    "collapsed": false
   },
   "outputs": [
    {
     "data": {
      "text/plain": [
       "<matplotlib.legend.Legend at 0x10972f1d0>"
      ]
     },
     "execution_count": 10,
     "metadata": {},
     "output_type": "execute_result"
    },
    {
     "data": {
      "image/png": "[encoded data removed]",
      "text/plain": [
       "<matplotlib.figure.Figure at 0x109643a10>"
      ]
     },
     "metadata": {},
     "output_type": "display_data"
    }
   ],
   "source": [
    "y_pred, y_true = predictions['AAPL']\n",
    "plt.plot(range(0,len(y_pred)), y_pred, linewidth=1)\n",
    "plt.plot(range(0,len(predictions['AAPL'][1])), predictions['AAPL'][1], linewidth=1)\n",
    "plt.xticks(4*np.arange(len(y_pred)/4), y_pred.index[::4], rotation=45)\n",
    "# plt.plot(range(0,len(y_pred)), np.array(y_pred) - np.array(y_test), linewidth=1)\n",
    "plt.legend(['pred', 'true'])"
   ]
  },
  {
   "cell_type": "code",
   "execution_count": 11,
   "metadata": {
    "collapsed": false
   },
   "outputs": [
    {
     "data": {
      "text/plain": [
       "0.04931214856366075"
      ]
     },
     "execution_count": 11,
     "metadata": {},
     "output_type": "execute_result"
    }
   ],
   "source": [
    "((y_pred-y_true)**2).mean()**0.5"
   ]
  },
  {
   "cell_type": "code",
   "execution_count": null,
   "metadata": {
    "collapsed": false
   },
   "outputs": [],
   "source": [
    "stock = Stock(['AAPL'])"
   ]
  },
  {
   "cell_type": "code",
   "execution_count": null,
   "metadata": {
    "collapsed": false
   },
   "outputs": [],
   "source": [
    "data, label = stock.get_data(start_date='2015-11-01', end_date='2015-12-31', fit=True)"
   ]
  },
  {
   "cell_type": "code",
   "execution_count": null,
   "metadata": {
    "collapsed": false
   },
   "outputs": [],
   "source": [
    "data.head()"
   ]
  },
  {
   "cell_type": "code",
   "execution_count": null,
   "metadata": {
    "collapsed": false
   },
   "outputs": [],
   "source": [
    "df = pd.read_csv(\"d2015-11-01_2015-12-31.csv\", index_col=0, parse_dates='Date')"
   ]
  },
  {
   "cell_type": "code",
   "execution_count": null,
   "metadata": {
    "collapsed": false
   },
   "outputs": [],
   "source": [
    "df['2015-11-01':'2015-12-31'].max()"
   ]
  },
  {
   "cell_type": "code",
   "execution_count": null,
   "metadata": {
    "collapsed": false
   },
   "outputs": [],
   "source": [
    "df['2015-11-01':'2015-12-31'].head()"
   ]
  },
  {
   "cell_type": "code",
   "execution_count": null,
   "metadata": {
    "collapsed": false
   },
   "outputs": [],
   "source": [
    "df['2015-11-01':'2015-12-31']"
   ]
  },
  {
   "cell_type": "code",
   "execution_count": 14,
   "metadata": {
    "collapsed": false
   },
   "outputs": [],
   "source": [
    "DataFrame.apply?"
   ]
  },
  {
   "cell_type": "code",
   "execution_count": 13,
   "metadata": {
    "collapsed": true
   },
   "outputs": [],
   "source": [
    "from pandas import DataFrame"
   ]
  },
  {
   "cell_type": "code",
   "execution_count": null,
   "metadata": {
    "collapsed": true
   },
   "outputs": [],
   "source": [
    "pd.rolling"
   ]
  }
 ],
 "metadata": {
  "kernelspec": {
   "display_name": "Python 2",
   "language": "python",
   "name": "python2"
  },
  "language_info": {
   "codemirror_mode": {
    "name": "ipython",
    "version": 2
   },
   "file_extension": ".py",
   "mimetype": "text/x-python",
   "name": "python",
   "nbconvert_exporter": "python",
   "pygments_lexer": "ipython2",
   "version": "2.7.11"
  }
 },
 "nbformat": 4,
 "nbformat_minor": 0
}

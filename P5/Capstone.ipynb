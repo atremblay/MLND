{
 "cells": [
  {
   "cell_type": "markdown",
   "metadata": {},
   "source": [
    "# <font color=\"#347797\"> Machine Learning Capstone Project</font>\n",
    "\n",
    "In this capstone project, you will pick a problem of your choice that can be solved by applying machine learning. Be prepared to leverage algorithms and techniques you've learned throughout the Nanodegree program.\n",
    "\n",
    "## Define your problem\n",
    "\n",
    "Think about a problem domain that you are passionate about, e.g. healthcare, engineering, finance, robotics, marketing, bio-informatics, etc., something that excites you. Then choose an existing problem within that domain which you could solve by applying machine learning.\n",
    "\n",
    "Look for challenges and datasets on platforms like [Kaggle](https://www.kaggle.com/), [Devpost](http://devpost.com/), etc. If you do find a problem you'd like to solve on one of these platforms, make sure to cite the source in your project report.\n",
    "\n",
    "Once you have picked a problem, define it in clearly your report.\n",
    "\n",
    "- What is the problem you're trying to solve, why is it important to solve it?\n",
    "- How does it affect people? How does it affect you?"
   ]
  },
  {
   "cell_type": "markdown",
   "metadata": {},
   "source": [
    "## Describe a solution\n",
    "\n",
    "In order to solve your problem, you should know what a solution to it looks like. Try to describe such a solution as precisely as you can. For instance, if it is a prediction problem, how accurate do your results need to be? How quickly does your algorithm need to produce an answer?\n",
    "\n",
    "Pick a suitable set of metrics to measure how well your approach works. For example, in a regression problem, you may choose an error metric such as mean squared error; in case of a clustering problem, you may measure the goodness of a solution in terms of intra-cluster and inter-cluster distances.\n",
    "\n",
    "*In your report, explain briefly why you think your chosen metric(s) is/are applicable.*\n",
    "\n",
    "Don't worry if you don't know enough to address this at the beginning - as you proceed with the project, you will be able to refine your expectations and estimate better. But starting with a goal in mind is infinitely better than starting with none!"
   ]
  },
  {
   "cell_type": "markdown",
   "metadata": {},
   "source": [
    "## Analyze the problem\n",
    "\n",
    "As first step towards solving your problem, you need to understand it better. If you have a dataset to work with, apply Exploratory Data Analysis techniques to gain some insight.\n",
    "\n",
    "- What is the size of your dataset?\n",
    "- How many features are present?\n",
    "\n",
    "Compute some basic statistics on the different data elements, e.g. mean, variance, min/max.\n",
    "\n",
    "- Which features seem most promising?\n",
    "- Are there any categorical variables that may need to be converted?\n",
    "\n",
    "Now try to think which machine learning algorithms would be most applicable for solving the problem.\n",
    "\n",
    "- Which ones would you expect to perform well?\n",
    "- How easy is it to convert the available data into a suitable form?"
   ]
  },
  {
   "cell_type": "markdown",
   "metadata": {},
   "source": [
    "## Implement a solution\n",
    "\n",
    "Now that you understand the problem better, you are ready to apply your chosen machine learning technique(s) and come up with a solution.\n",
    "\n",
    "Create your solution by using an existing library (such as scikit-learn) or rolling your own implementation. Keep in mind that for a real-world challenge, an existing implementation may not work nicely out of the box. You will likely have to tweak parameters, and transform the input to get better results.\n",
    "\n",
    "- What pre-processing operations do you have to carry out on the features? (e.g. scaling, normalization, selection, transformation)\n",
    "- Are there any incomplete data points or outliers that you have to work around?\n",
    "\n",
    "Once you have a first-pass solution, try to gauge how well it performs.\n",
    "\n",
    "- Using the metric(s) you defined earlier, measure your current performance. Is it close to what you expected?\n",
    "- Are there any better metrics you can come up with?\n",
    "\n",
    "Feel free to revise your problem and solution descriptions according to what you have learned so far."
   ]
  },
  {
   "cell_type": "markdown",
   "metadata": {},
   "source": [
    "## Refine your solution\n",
    "\n",
    "Iterate on your solution to make it as good as you can.\n",
    "\n",
    "- For each version of your solution, track what changes you make and how they affect performance.\n",
    "- Does it ever become worse? If so, note down and figure out why.\n",
    "\n",
    "Your final solution may or may not be exactly like you initially planned. But that is okay!\n",
    "\n",
    "- Report how your project evolved, and what changes you made to your specifications (if any).\n",
    "- What was your experience like working on this project? Do you feel more confident taking on open-ended projects like these in the future?\n",
    "\n",
    "## Complete your report\n",
    "\n",
    "Make sure you have addressed all the rubric components. You can use the questions in italics as guidelines.\n",
    "\n",
    "Turn in your project code and a PDF report (3-5 pages), together as a .zip file or as a link to an online repository."
   ]
  },
  {
   "cell_type": "code",
   "execution_count": null,
   "metadata": {
    "collapsed": true
   },
   "outputs": [],
   "source": []
  }
 ],
 "metadata": {
  "kernelspec": {
   "display_name": "Python 2",
   "language": "python",
   "name": "python2"
  },
  "language_info": {
   "codemirror_mode": {
    "name": "ipython",
    "version": 2
   },
   "file_extension": ".py",
   "mimetype": "text/x-python",
   "name": "python",
   "nbconvert_exporter": "python",
   "pygments_lexer": "ipython2",
   "version": "2.7.11"
  }
 },
 "nbformat": 4,
 "nbformat_minor": 0
}
